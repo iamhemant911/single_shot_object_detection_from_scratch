{
 "cells": [
  {
   "cell_type": "code",
   "execution_count": 1,
   "metadata": {},
   "outputs": [],
   "source": [
    "params = {\n",
    "        'epoch_offset': 0,\n",
    "        'classes' : [\"Background\",\"Bicycle\", \"Boat\", \"Bottle\", \"Bus\", \"Car\", \"Cat\", \"Chair\", \"Cup\", \"Dog\", \n",
    "                     \"Motorbike\",\"People\",\"Table\"]\n",
    "        }"
   ]
  },
  {
   "cell_type": "code",
   "execution_count": 2,
   "metadata": {},
   "outputs": [],
   "source": [
    "def anchor_aspect_ratios():\n",
    "    aspect_ratios = object_detection_config.params['aspect_ratios']\n",
    "    return aspect_ratios"
   ]
  },
  {
   "cell_type": "code",
   "execution_count": null,
   "metadata": {},
   "outputs": [],
   "source": []
  }
 ],
 "metadata": {
  "kernelspec": {
   "display_name": "Python 3",
   "language": "python",
   "name": "python3"
  },
  "language_info": {
   "codemirror_mode": {
    "name": "ipython",
    "version": 3
   },
   "file_extension": ".py",
   "mimetype": "text/x-python",
   "name": "python",
   "nbconvert_exporter": "python",
   "pygments_lexer": "ipython3",
   "version": "3.7.6"
  }
 },
 "nbformat": 4,
 "nbformat_minor": 5
}
